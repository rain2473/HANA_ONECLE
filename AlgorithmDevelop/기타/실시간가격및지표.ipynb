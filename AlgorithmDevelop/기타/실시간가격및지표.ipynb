{
 "cells": [
  {
   "cell_type": "code",
   "execution_count": 1,
   "metadata": {},
   "outputs": [],
   "source": [
    "from DB import AIModelHandler\n",
    "from DB import DataFrameHandler\n",
    "import requests, datetime\n",
    "import pandas as pd\n",
    "import urllib3\n",
    "urllib3.disable_warnings(urllib3.exceptions.InsecureRequestWarning)\n",
    "\n",
    "def getRealtimePrice(isin):\n",
    "    url = f'https://polling.finance.naver.com/api/realtime?query=SERVICE_ITEM:{isin}'\n",
    "    response = requests.get(url, verify=False)\n",
    "    if response.status_code == 200:\n",
    "        data = response.json()\n",
    "        result = data['result']['areas'][0]['datas'][0]['nv']\n",
    "        time = data['result']['time']\n",
    "        \n",
    "        return {'TIME' : datetime.datetime.fromtimestamp(time / 1000).strftime('%Y-%m-%d %H:%M:%S'),'ISIN' : isin, 'PRICE' : int(result)}\n",
    "\n",
    "    else:\n",
    "        print(f\"Failed to fetch data from {url}. Status code: {response.status_code}\")\n",
    "        return None\n",
    "    \n",
    "def getIndex(input):\n",
    "    kosdaq_url = f'http://ecos.bok.or.kr/api/StatisticSearch/A5P1FVP5VX625OV2NVTA/json/kr/1/100000/802Y001/D/20130101/20240101/0089000'\n",
    "    rate_url = f'http://ecos.bok.or.kr/api/StatisticSearch/A5P1FVP5VX625OV2NVTA/json/kr/1/100000/722Y001/D/20130101/20240101/0101000'\n",
    "    kospi_url = f'http://ecos.bok.or.kr/api/StatisticSearch/A5P1FVP5VX625OV2NVTA/json/kr/1/100000/802Y001/D/20130101/20240101/0001000'\n",
    "    url = {\n",
    "        'kosdaq_url' : kosdaq_url,\n",
    "        'rate_url' : rate_url,\n",
    "        'kospi_url' : kospi_url\n",
    "    }\n",
    "    code = {\n",
    "        'kospi_url' : 1,\n",
    "        'kosdaq_url' : 2,\n",
    "        'rate_url' : 3\n",
    "    }\n",
    "    response = requests.get(url[input], verify=False)\n",
    "    result = []\n",
    "    time = []\n",
    "    if response.status_code == 200:\n",
    "        data = response.json()\n",
    "        IDX_CODE = [code[input]] * data['StatisticSearch']['list_total_count']\n",
    "        for i in range(data['StatisticSearch']['list_total_count']):\n",
    "            result.append(data['StatisticSearch']['row'][i]['DATA_VALUE'])\n",
    "            time.append(data['StatisticSearch']['row'][i]['TIME'])\n",
    "        \n",
    "        result = pd.DataFrame({'WORK_DT' : time, 'IDX_CODE' : IDX_CODE, 'VALUE' : result})\n",
    "        result['WORK_DT'] = result['WORK_DT'].str[:4] + '-' + result['WORK_DT'].str[4:6] + '-' + result['WORK_DT'].str[6:8]\n",
    "        result['WORK_DT'] = pd.to_datetime(result['WORK_DT'], format='%Y-%m-%d')\n",
    "        result = pd.merge(result, DataFrameHandler.findItems('WORK_DATE', orderBy='DATE_LABEL'), how='inner')\n",
    "        result['WORK_DT'] = result['WORK_DT'].dt.strftime('%Y-%m-%d')\n",
    "        result.drop(columns=['DATE_LABEL'], inplace = True)\n",
    "        return result\n",
    "\n",
    "    else:\n",
    "        print(f\"Failed to fetch data from {url}. Status code: {response.status_code}\")\n",
    "        return None"
   ]
  },
  {
   "cell_type": "code",
   "execution_count": 2,
   "metadata": {},
   "outputs": [],
   "source": [
    "DataFrameHandler.insertItems('DAILY_INDEX', getIndex('rate_url'))\n",
    "DataFrameHandler.insertItems('DAILY_INDEX', getIndex('kospi_url'))\n",
    "DataFrameHandler.insertItems('DAILY_INDEX', getIndex('kosdaq_url'))"
   ]
  },
  {
   "cell_type": "code",
   "execution_count": 42,
   "metadata": {},
   "outputs": [
    {
     "data": {
      "text/plain": [
       "{'TIME': '2023-10-01 15:07:28', 'ISIN': '005930', 'PRICE': 68400}"
      ]
     },
     "execution_count": 42,
     "metadata": {},
     "output_type": "execute_result"
    }
   ],
   "source": [
    "getRealtimePrice('005930')"
   ]
  },
  {
   "cell_type": "code",
   "execution_count": 41,
   "metadata": {},
   "outputs": [
    {
     "ename": "NameError",
     "evalue": "name 'stockSet' is not defined",
     "output_type": "error",
     "traceback": [
      "\u001b[0;31m---------------------------------------------------------------------------\u001b[0m",
      "\u001b[0;31mNameError\u001b[0m                                 Traceback (most recent call last)",
      "\u001b[1;32m/Users/Hong-YoonKi/HANAKOPO/FINAL/Django/실시간가격및지표.ipynb 셀 3\u001b[0m line \u001b[0;36m2\n\u001b[1;32m      <a href='vscode-notebook-cell:/Users/Hong-YoonKi/HANAKOPO/FINAL/Django/%EC%8B%A4%EC%8B%9C%EA%B0%84%EA%B0%80%EA%B2%A9%EB%B0%8F%EC%A7%80%ED%91%9C.ipynb#W3sZmlsZQ%3D%3D?line=0'>1</a>\u001b[0m result \u001b[39m=\u001b[39m []\n\u001b[0;32m----> <a href='vscode-notebook-cell:/Users/Hong-YoonKi/HANAKOPO/FINAL/Django/%EC%8B%A4%EC%8B%9C%EA%B0%84%EA%B0%80%EA%B2%A9%EB%B0%8F%EC%A7%80%ED%91%9C.ipynb#W3sZmlsZQ%3D%3D?line=1'>2</a>\u001b[0m \u001b[39mfor\u001b[39;00m isin \u001b[39min\u001b[39;00m stockSet:\n\u001b[1;32m      <a href='vscode-notebook-cell:/Users/Hong-YoonKi/HANAKOPO/FINAL/Django/%EC%8B%A4%EC%8B%9C%EA%B0%84%EA%B0%80%EA%B2%A9%EB%B0%8F%EC%A7%80%ED%91%9C.ipynb#W3sZmlsZQ%3D%3D?line=2'>3</a>\u001b[0m     result\u001b[39m.\u001b[39mappend(getRealtimePrice(isin))\n\u001b[1;32m      <a href='vscode-notebook-cell:/Users/Hong-YoonKi/HANAKOPO/FINAL/Django/%EC%8B%A4%EC%8B%9C%EA%B0%84%EA%B0%80%EA%B2%A9%EB%B0%8F%EC%A7%80%ED%91%9C.ipynb#W3sZmlsZQ%3D%3D?line=3'>4</a>\u001b[0m pd\u001b[39m.\u001b[39mDataFrame(result)\n",
      "\u001b[0;31mNameError\u001b[0m: name 'stockSet' is not defined"
     ]
    }
   ],
   "source": [
    "result = []\n",
    "stockSet = AIModelHandler.selectAllStock()\n",
    "for isin in stockSet:\n",
    "    result.append(getRealtimePrice(isin))\n",
    "pd.DataFrame(result)"
   ]
  }
 ],
 "metadata": {
  "kernelspec": {
   "display_name": "Python 3",
   "language": "python",
   "name": "python3"
  },
  "language_info": {
   "codemirror_mode": {
    "name": "ipython",
    "version": 3
   },
   "file_extension": ".py",
   "mimetype": "text/x-python",
   "name": "python",
   "nbconvert_exporter": "python",
   "pygments_lexer": "ipython3",
   "version": "3.11.2"
  },
  "orig_nbformat": 4
 },
 "nbformat": 4,
 "nbformat_minor": 2
}
