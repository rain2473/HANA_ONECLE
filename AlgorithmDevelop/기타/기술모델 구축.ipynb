{
 "cells": [
  {
   "cell_type": "code",
   "execution_count": 1,
   "metadata": {},
   "outputs": [
    {
     "name": "stdout",
     "output_type": "stream",
     "text": [
      "MERGE INTO STATISTICS USING TMP_STATISTICS ON (STATISTICS.ISIN = TMP_STATISTICS.ISIN and STATISTICS.WORK_DT = TMP_STATISTICS.WORK_DT) WHEN MATCHED THEN UPDATE SET STATISTICS.RSI = TMP_STATISTICS.RSI, STATISTICS.OBV = TMP_STATISTICS.OBV, STATISTICS.STOCHASTIC_K = TMP_STATISTICS.STOCHASTIC_K, STATISTICS.STOCHASTIC_D = TMP_STATISTICS.STOCHASTIC_D, STATISTICS.MOMENTUM = TMP_STATISTICS.MOMENTUM WHEN NOT MATCHED THEN INSERT (ISIN, WORK_DT, RSI, OBV, STOCHASTIC_K, STOCHASTIC_D, MOMENTUM) VALUES (TMP_STATISTICS.ISIN, TMP_STATISTICS.WORK_DT, TMP_STATISTICS.RSI, TMP_STATISTICS.OBV, TMP_STATISTICS.STOCHASTIC_K, TMP_STATISTICS.STOCHASTIC_D, TMP_STATISTICS.MOMENTUM)\n"
     ]
    }
   ],
   "source": [
    "from DB import DataFrameHandler\n",
    "from DB import AIModelHandler\n",
    "import pandas as pd\n",
    "import pickle, time\n",
    "pd.options.mode.chained_assignment = None\n",
    "\n",
    "with open('ohlcv.sav', 'rb') as file:\n",
    "    ohlcv = file.read()\n",
    "ohlcv = pickle.loads(ohlcv)\n",
    "\n",
    "def calcStochasticK(df, n=14):\n",
    "    Numerator = df - df.rolling(window=n).min()\n",
    "    Denominator = df.rolling(window=n).max() - df.rolling(window=n).min()\n",
    "    result = (Numerator / Denominator * 100).round()\n",
    "    return result\n",
    "\n",
    "def makeStatisticsDF(df):\n",
    "    tmp = df.sort_values('S_DATE').reset_index(drop=True)\n",
    "    tmp.rename(columns={'S_DATE' : 'WORK_DT'}, inplace=True)\n",
    "    tmp['WORK_DT'] = tmp['WORK_DT'].apply(lambda x: pd.to_datetime(x).strftime('%Y-%m-%d')) \n",
    "    tmp.drop(columns=['OPEN','HIGH','LOW',\"AMOUNT\",'UPDOWN'], inplace=True)\n",
    "    tmp['PRICE_CHANGE'] = tmp['CLOSE'].diff().fillna(0)\n",
    "    tmp['MOMENTUM'] = (tmp['CLOSE'] - tmp['CLOSE'].shift(10)).fillna(0)\n",
    "    tmp['OBV'] = ((tmp['PRICE_CHANGE'] != 0) * ((tmp['PRICE_CHANGE'] > 0) * 2 - 1) * tmp['VOLUME']).cumsum()\n",
    "    tmp['STOCHASTIC_K'] = calcStochasticK(tmp['CLOSE'])\n",
    "    tmp['STOCHASTIC_D'] = tmp['STOCHASTIC_K'].rolling(window=3).mean()\n",
    "    tmp['GAIN'] = tmp['PRICE_CHANGE'].apply(lambda x: max(x, 0))\n",
    "    tmp['LOSS'] = tmp['PRICE_CHANGE'].apply(lambda x: -min(x, 0))\n",
    "    tmp['EMA_GAIN'] = tmp['GAIN'].ewm(span=10, min_periods=10).mean()\n",
    "    tmp['EMA_LOSS'] = tmp['LOSS'].ewm(span=10, min_periods=10).mean()\n",
    "    tmp['RS'] = tmp['EMA_GAIN'] / tmp['EMA_LOSS']\n",
    "    tmp['RSI'] = 100 - (100 / (1 + tmp['RS']))\n",
    "    tmp.drop(columns=['CLOSE', 'VOLUME', 'PRICE_CHANGE', 'GAIN', 'LOSS', 'EMA_GAIN', 'EMA_LOSS','RS'], inplace=True)\n",
    "    tmp = tmp.round().dropna().reset_index(drop=True)\n",
    "    return tmp\n",
    "\n",
    "for df in ohlcv:\n",
    "    test = makeStatisticsDF(df)\n",
    "    DataFrameHandler.insertItems('TMP_STATISTICS', test)\n",
    "AIModelHandler.mergeTmpIntoMain('STATISTICS')"
   ]
  }
 ],
 "metadata": {
  "kernelspec": {
   "display_name": "Python 3",
   "language": "python",
   "name": "python3"
  },
  "language_info": {
   "codemirror_mode": {
    "name": "ipython",
    "version": 3
   },
   "file_extension": ".py",
   "mimetype": "text/x-python",
   "name": "python",
   "nbconvert_exporter": "python",
   "pygments_lexer": "ipython3",
   "version": "3.11.2"
  },
  "orig_nbformat": 4
 },
 "nbformat": 4,
 "nbformat_minor": 2
}
